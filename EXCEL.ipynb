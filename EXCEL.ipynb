{
 "cells": [
  {
   "cell_type": "code",
   "execution_count": 17,
   "id": "40d75f4d-89bc-4cc6-a1c8-e8f15ccaf25a",
   "metadata": {},
   "outputs": [],
   "source": [
    "nums = [2,7,11,15]\n",
    "target = 9"
   ]
  },
  {
   "cell_type": "code",
   "execution_count": 15,
   "id": "7cfaf057-26bc-4f88-bee3-22810986510a",
   "metadata": {},
   "outputs": [],
   "source": [
    "def two_sum(nums, target):\n",
    "    num_map={}\n",
    "\n",
    "    for i, num in enumerate(nums):\n",
    "        complement = target - num #complement that adds up to the target\n",
    "\n",
    "        if complement in num_map: #if the complement exists in thmap, return the indices\n",
    "            return [num_map[complement], i]\n",
    "\n",
    "        #Otherwise, store the current number and its index in the map\n",
    "        num_map[num] = i\n",
    "    return []"
   ]
  },
  {
   "cell_type": "code",
   "execution_count": 18,
   "id": "9a31564d-2d74-440a-a139-bdd6d8184d55",
   "metadata": {},
   "outputs": [
    {
     "data": {
      "text/plain": [
       "[0, 1]"
      ]
     },
     "execution_count": 18,
     "metadata": {},
     "output_type": "execute_result"
    }
   ],
   "source": [
    "two_sum(nums,target)"
   ]
  },
  {
   "cell_type": "code",
   "execution_count": 19,
   "id": "87ba9f91-3326-48d6-986e-b1f43325a000",
   "metadata": {},
   "outputs": [
    {
     "name": "stdout",
     "output_type": "stream",
     "text": [
      "Looking in indexes: https://artifacts.benteler.net/repository/pypi/simple\n",
      "Requirement already satisfied: pandas in /opt/conda/lib/python3.11/site-packages (2.2.3)\n",
      "Requirement already satisfied: openpyxl in /opt/conda/lib/python3.11/site-packages (3.1.5)\n",
      "Collecting pymupdf\n",
      "  Downloading https://artifacts.benteler.net/repository/pypi/packages/pymupdf/1.25.5/pymupdf-1.25.5-cp39-abi3-manylinux2014_x86_64.manylinux_2_17_x86_64.whl (20.0 MB)\n",
      "\u001b[2K     \u001b[90m━━━━━━━━━━━━━━━━━━━━━━━━━━━━━━━━━━━━━━━━\u001b[0m \u001b[32m20.0/20.0 MB\u001b[0m \u001b[31m14.7 MB/s\u001b[0m eta \u001b[36m0:00:00\u001b[0m00:01\u001b[0m00:01\u001b[0m\n",
      "\u001b[?25hRequirement already satisfied: numpy>=1.23.2 in /opt/conda/lib/python3.11/site-packages (from pandas) (1.26.4)\n",
      "Requirement already satisfied: python-dateutil>=2.8.2 in /opt/conda/lib/python3.11/site-packages (from pandas) (2.8.2)\n",
      "Requirement already satisfied: pytz>=2020.1 in /opt/conda/lib/python3.11/site-packages (from pandas) (2023.3.post1)\n",
      "Requirement already satisfied: tzdata>=2022.7 in /opt/conda/lib/python3.11/site-packages (from pandas) (2025.2)\n",
      "Requirement already satisfied: et-xmlfile in /opt/conda/lib/python3.11/site-packages (from openpyxl) (2.0.0)\n",
      "Requirement already satisfied: six>=1.5 in /opt/conda/lib/python3.11/site-packages (from python-dateutil>=2.8.2->pandas) (1.16.0)\n",
      "Installing collected packages: pymupdf\n",
      "\u001b[33m  WARNING: The script pymupdf is installed in '/home/jovyan/.local/bin' which is not on PATH.\n",
      "  Consider adding this directory to PATH or, if you prefer to suppress this warning, use --no-warn-script-location.\u001b[0m\u001b[33m\n",
      "\u001b[0mSuccessfully installed pymupdf-1.25.5\n"
     ]
    }
   ],
   "source": [
    "!pip install pandas openpyxl pymupdf"
   ]
  },
  {
   "cell_type": "code",
   "execution_count": 26,
   "id": "a663a59d-ea12-4d10-a8da-41c0d7d8deea",
   "metadata": {},
   "outputs": [
    {
     "name": "stdout",
     "output_type": "stream",
     "text": [
      "Looking in indexes: https://artifacts.benteler.net/repository/pypi/simple\n",
      "Requirement already satisfied: pymupdf in ./.local/lib/python3.11/site-packages (1.25.5)\n"
     ]
    }
   ],
   "source": [
    "!pip install pymupdf"
   ]
  },
  {
   "cell_type": "code",
   "execution_count": 22,
   "id": "4442640c-98c8-4602-bc55-8ae264040ca5",
   "metadata": {},
   "outputs": [],
   "source": [
    "import os\n",
    "\n",
    "# Path to the Excel file\n",
    "excel_path = \"5. May 2025 Surcharges COPY.xlsx\"\n",
    "\n",
    "# Folder where your downloaded PDFs are saved\n",
    "pdf_folder = \"5. May PDFs\"  # Make sure this folder exists in your working directory\n",
    "\n",
    "# Output Excel file name\n",
    "output_excel_path = \"Surcharges_with_PDF_Text.xlsx\"\n"
   ]
  },
  {
   "cell_type": "code",
   "execution_count": 24,
   "id": "27a5d6ce-14c4-435d-94be-2efa28d8c934",
   "metadata": {},
   "outputs": [
    {
     "data": {
      "text/html": [
       "<div>\n",
       "<style scoped>\n",
       "    .dataframe tbody tr th:only-of-type {\n",
       "        vertical-align: middle;\n",
       "    }\n",
       "\n",
       "    .dataframe tbody tr th {\n",
       "        vertical-align: top;\n",
       "    }\n",
       "\n",
       "    .dataframe thead th {\n",
       "        text-align: right;\n",
       "    }\n",
       "</style>\n",
       "<table border=\"1\" class=\"dataframe\">\n",
       "  <thead>\n",
       "    <tr style=\"text-align: right;\">\n",
       "      <th></th>\n",
       "      <th>ONLINE SITES</th>\n",
       "      <th>Website</th>\n",
       "      <th>Notes</th>\n",
       "      <th>Unnamed: 3</th>\n",
       "      <th>Unnamed: 4</th>\n",
       "      <th>Unnamed: 5</th>\n",
       "      <th>Unnamed: 6</th>\n",
       "      <th>Unnamed: 7</th>\n",
       "      <th>Unnamed: 8</th>\n",
       "    </tr>\n",
       "  </thead>\n",
       "  <tbody>\n",
       "    <tr>\n",
       "      <th>0</th>\n",
       "      <td>ACS</td>\n",
       "      <td>https://acsindustries.com/surcharges/archive/</td>\n",
       "      <td>NaN</td>\n",
       "      <td>NaN</td>\n",
       "      <td>NaN</td>\n",
       "      <td>NaN</td>\n",
       "      <td>NaN</td>\n",
       "      <td>NaN</td>\n",
       "      <td>NaN</td>\n",
       "    </tr>\n",
       "    <tr>\n",
       "      <th>1</th>\n",
       "      <td>Kallas Edelstahl</td>\n",
       "      <td>Alloy surcharges | Kallas stainless steel GmbH...</td>\n",
       "      <td>NaN</td>\n",
       "      <td>NaN</td>\n",
       "      <td>NaN</td>\n",
       "      <td>NaN</td>\n",
       "      <td>NaN</td>\n",
       "      <td>NaN</td>\n",
       "      <td>NaN</td>\n",
       "    </tr>\n",
       "    <tr>\n",
       "      <th>2</th>\n",
       "      <td>Rohr Mertl</td>\n",
       "      <td>Valid alloy surcharges – Rohr Mertl</td>\n",
       "      <td>Condition YKG2 - use tube on SC sheet</td>\n",
       "      <td>NaN</td>\n",
       "      <td>NaN</td>\n",
       "      <td>NaN</td>\n",
       "      <td>NaN</td>\n",
       "      <td>NaN</td>\n",
       "      <td>NaN</td>\n",
       "    </tr>\n",
       "    <tr>\n",
       "      <th>3</th>\n",
       "      <td>Carpenter</td>\n",
       "      <td>Raw Materials Surcharge | Carpenter Technology</td>\n",
       "      <td>click on Raw Materials Surchasrges - Cast/Wrought</td>\n",
       "      <td>NaN</td>\n",
       "      <td>NaN</td>\n",
       "      <td>NaN</td>\n",
       "      <td>NaN</td>\n",
       "      <td>NaN</td>\n",
       "      <td>NaN</td>\n",
       "    </tr>\n",
       "    <tr>\n",
       "      <th>4</th>\n",
       "      <td>Cleveland Cliffs (AK Steel)</td>\n",
       "      <td>For Customers :: Cleveland-Cliffs Inc. (CLF) (...</td>\n",
       "      <td>Scroll down to \"stainless surcharges\" --&gt; Hit ...</td>\n",
       "      <td>NaN</td>\n",
       "      <td>NaN</td>\n",
       "      <td>NaN</td>\n",
       "      <td>NaN</td>\n",
       "      <td>NaN</td>\n",
       "      <td>NaN</td>\n",
       "    </tr>\n",
       "  </tbody>\n",
       "</table>\n",
       "</div>"
      ],
      "text/plain": [
       "                  ONLINE SITES  \\\n",
       "0                          ACS   \n",
       "1            Kallas Edelstahl    \n",
       "2                   Rohr Mertl   \n",
       "3                    Carpenter   \n",
       "4  Cleveland Cliffs (AK Steel)   \n",
       "\n",
       "                                             Website  \\\n",
       "0      https://acsindustries.com/surcharges/archive/   \n",
       "1  Alloy surcharges | Kallas stainless steel GmbH...   \n",
       "2                Valid alloy surcharges – Rohr Mertl   \n",
       "3     Raw Materials Surcharge | Carpenter Technology   \n",
       "4  For Customers :: Cleveland-Cliffs Inc. (CLF) (...   \n",
       "\n",
       "                                               Notes Unnamed: 3 Unnamed: 4  \\\n",
       "0                                                NaN        NaN        NaN   \n",
       "1                                                NaN        NaN        NaN   \n",
       "2              Condition YKG2 - use tube on SC sheet        NaN        NaN   \n",
       "3  click on Raw Materials Surchasrges - Cast/Wrought        NaN        NaN   \n",
       "4  Scroll down to \"stainless surcharges\" --> Hit ...        NaN        NaN   \n",
       "\n",
       "  Unnamed: 5 Unnamed: 6  Unnamed: 7 Unnamed: 8  \n",
       "0        NaN        NaN         NaN        NaN  \n",
       "1        NaN        NaN         NaN        NaN  \n",
       "2        NaN        NaN         NaN        NaN  \n",
       "3        NaN        NaN         NaN        NaN  \n",
       "4        NaN        NaN         NaN        NaN  "
      ]
     },
     "execution_count": 24,
     "metadata": {},
     "output_type": "execute_result"
    }
   ],
   "source": [
    "import pandas as pd\n",
    "\n",
    "# Load the Excel file\n",
    "df = pd.read_excel(excel_path, sheet_name=\"Links\")  # Change sheet name if needed\n",
    "\n",
    "# Preview the first few rows\n",
    "df.head()\n"
   ]
  },
  {
   "cell_type": "code",
   "execution_count": 3,
   "id": "51a770d1-2f2e-4019-96ec-ce8fb9d54bca",
   "metadata": {},
   "outputs": [
    {
     "data": {
      "text/plain": [
       "[('Outokumpo_Precision_May.pdf',\n",
       "  'monthly alloy surcharges for precision strip\\nmonthly alloy surcharges may 2025\\nsteel designations\\ncurrency / tonne\\nupdated:2025-04-22\\noutokumpu\\nen\\nastm\\neur\\ngbp\\nusd\\nsek\\nnok\\ndkk\\nczk\\npln\\nhuf\\ncnh\\nzar\\nmoda\\nmoda 430/4016\\n1.4016\\n430\\n1221\\n1034\\n1343\\n13364\\n14222\\n9116\\n30576\\n5165\\n493382\\n9778\\n25132\\nmoda 439/4510\\n1.4510\\n439\\n1210\\n1024\\n1330\\n13234\\n14084\\n9027\\n30279\\n5115\\n488591\\n9683\\n24888\\nmoda 409/4512\\n1.4512\\n409\\n1045\\n885\\n1150\\n11437\\n12172\\n7801\\n26167\\n4420\\n422239\\n8368\\n21508\\ncore\\ncore 434/4113\\n1.4113\\n434\\n1721\\n1457\\n1893\\n18831\\n20041\\n12845\\n43085\\n7278\\n695222\\n13779\\n35413\\ncore 304/4301\\n1.4301\\n304\\n2382\\n2015\\n2619\\n26056\\n27730\\n17773\\n59615\\n10070\\n961960\\n19065\\n49001\\ncore 305/4303\\n1.4303\\n305\\n3005\\n2543\\n3305\\n32878\\n34991\\n22427\\n75226\\n12707\\n1213849\\n24057\\n61831\\ncore 304l/4306\\n1.4306\\n304l\\n2603\\n2203\\n2863\\n28478\\n30307\\n19425\\n65157\\n11006\\n1051376\\n20837\\n53555\\ncore 304l/4307\\n1.4307\\n304l\\n2382\\n2015\\n2619\\n26056\\n27730\\n17773\\n59615\\n10070\\n961960\\n19065\\n49001\\ncore 301/4310\\n1.4310\\n301\\n2252\\n1905\\n2476\\n24634\\n26216\\n16803\\n56362\\n9521\\n909465\\n18025\\n46327\\ncore 301/4310 mo\\n1.4310mo 301mo\\n2551\\n2159\\n2806\\n27908\\n29701\\n19037\\n63853\\n10786\\n1030343\\n20420\\n52484\\ncore 304ln/4311\\n1.4311\\n304ln\\n2535\\n2145\\n2788\\n27736\\n29518\\n18919\\n63460\\n10720\\n1023994\\n20295\\n52161\\ncore 441/4509\\n1.4509\\n441\\n1638\\n1387\\n1802\\n17926\\n19078\\n12228\\n41015\\n6928\\n661818\\n13117\\n33712\\ncore 321/4541\\n1.4541\\n321\\n2571\\n2176\\n2828\\n28132\\n29939\\n19189\\n64366\\n10873\\n1038612\\n20584\\n52905\\nsupra\\nsupra 316/4401\\n1.4401\\n316\\n3916\\n3313\\n4307\\n42839\\n45591\\n29221\\n98015\\n16557\\n1581587\\n31346\\n80563\\nsupra 316l/4404\\n1.4404\\n316l\\n3916\\n3313\\n4307\\n42839\\n45591\\n29221\\n98015\\n16557\\n1581587\\n31346\\n80563\\nsupra 316l/4435\\n1.4435\\n316l\\n4403\\n3726\\n4842\\n48168\\n51263\\n32856\\n110208\\n18617\\n1778333\\n35245\\n90585\\nsupra 316ti/4571\\n1.4571\\n316ti\\n3960\\n3351\\n4355\\n43323\\n46107\\n29552\\n99124\\n16744\\n1599468\\n31700\\n81474\\nforta\\nforta dx 2205\\n1.4462\\ns32205\\n3731\\n3157\\n4104\\n40819\\n43442\\n27844\\n93394\\n15776\\n1507019\\n29868\\n76765\\nultra\\nultra 317l\\n1.4438\\n317l\\n5036\\n4261\\n5539\\n55094\\n58633\\n37581\\n126054\\n21293\\n2034027\\n40313\\n103610\\nultra 904l\\n1.4539\\n904l\\n6935\\n5869\\n7628\\n75873\\n80748\\n51755\\n173597\\n29324\\n2801186\\n55517\\n142688\\nultra 254 smo\\n1.4547\\ns31254\\n7002\\n5925\\n7701\\n76602\\n81524\\n52252\\n175267\\n29606\\n2828119\\n56051\\n144060\\nultra 4565\\n1.4565\\ns34565\\n6014\\n5089\\n6614\\n65794\\n70022\\n44880\\n150538\\n25429\\n2429090\\n48142\\n123734\\ndura\\ndura 420/4021\\n1.4021\\n420\\n1113\\n942\\n1225\\n12181\\n12964\\n8309\\n27870\\n4708\\n449718\\n8913\\n22908\\ndura 17-7ph\\n1.4568\\n631\\n2220\\n1879\\n2442\\n24290\\n25851\\n16569\\n55576\\n9388\\n896774\\n17773\\n45680\\ndura 6908\\n1.6908\\n4813\\n4073\\n5294\\n52662\\n56046\\n35922\\n120492\\n20354\\n1944264\\n38534\\n99038\\ndura 14-7ph\\n2419\\n2047\\n2660\\n26461\\n28161\\n18050\\n60543\\n10227\\n976930\\n19362\\n49763\\ndura 15-5ph\\n2148\\n1818\\n2363\\n23505\\n25015\\n16033\\n53780\\n9085\\n867797\\n17199\\n44204\\ntherma\\ntherma 153 ma\\n1.4818\\ns30415\\n2446\\n2070\\n2690\\n26763\\n28482\\n18256\\n61233\\n10344\\n988069\\n19583\\n50331\\ntherma 4828\\n1.4828\\n2992\\n2532\\n3290\\n32731\\n34834\\n22326\\n74888\\n12650\\n1208405\\n23949\\n61554\\ntherma 309s/4833 1.4833\\n309s\\n3115\\n2636\\n3426\\n34077\\n36266\\n23245\\n77968\\n13170\\n1258095\\n24934\\n64085\\ntherma 253 ma\\n1.4835\\ns30815\\n2746\\n2324\\n3020\\n30043\\n31973\\n20493\\n68739\\n11612\\n1109182\\n21983\\n56500\\ntherma 314/4841\\n1.4841\\n314\\n4231\\n3581\\n4654\\n46293\\n49267\\n31577\\n105918\\n17892\\n1709101\\n33873\\n87059\\ntherma 310s/4845 1.4845\\n310s\\n4098\\n3468\\n4507\\n44830\\n47710\\n30580\\n102571\\n17327\\n1655101\\n32803\\n84308\\n'),\n",
       " ('ACS-Industries-May-2025-Surcharges.pdf',\n",
       "  \"acs industries,inc.\\nraw material surcharge policy\\nmonthly surcharge calculations\\nfor orders shipped: may 1-31,2025\\n ni -\\nnickel\\ncr -\\nchrome fe - iron\\nmoly\\nti - \\ntitanium\\ncu - \\ncopper\\nal - \\naluminu\\nm\\n2.000\\n$  \\n0.350\\n$   \\n0.064\\n$  \\n3.000\\n$    \\n8.500\\n$    \\n0.750\\n$    \\n0.650\\n$    \\n7.279\\n$  \\n1.430\\n$   \\n0.223\\n$  \\n20.549\\n$  \\n12.000\\n$  \\n4.416\\n$    \\n1.189\\n$    \\n5.279\\n$  \\n1.080\\n$   \\n0.159\\n$  \\n17.549\\n$  \\n3.500\\n$    \\n3.666\\n$    \\n0.539\\n$    \\n$ / lb.\\n0.528\\n$  \\n0.205\\n$   \\n0.109\\n$  \\n-\\n$        \\n-\\n$        \\n-\\n$        \\n-\\n$        \\n1.0158\\n$               \\n$ / lb.\\n0.713\\n$  \\n0.248\\n$   \\n0.096\\n$  \\n-\\n$        \\n-\\n$        \\n-\\n$        \\n-\\n$        \\n1.2669\\n$               \\n$ / lb.\\n1.082\\n$  \\n0.270\\n$   \\n0.081\\n$  \\n-\\n$        \\n-\\n$        \\n-\\n$        \\n-\\n$        \\n1.7068\\n$               \\n$ / lb.\\n0.633\\n$  \\n0.184\\n$   \\n0.104\\n$  \\n0.439\\n$    \\n-\\n$        \\n-\\n$        \\n-\\n$        \\n1.6215\\n$               \\n$ / lb.\\n0.633\\n$  \\n0.184\\n$   \\n0.104\\n$  \\n0.439\\n$    \\n0.025\\n$    \\n-\\n$        \\n-\\n$        \\n1.6501\\n$               \\n$ / lb.\\n0.554\\n$  \\n0.194\\n$   \\n0.108\\n$  \\n-\\n$        \\n-\\n$        \\n-\\n$        \\n-\\n$        \\n1.0326\\n$               \\n$ / lb.\\n0.026\\n$  \\n0.126\\n$   \\n0.139\\n$  \\n-\\n$        \\n0.018\\n$    \\n-\\n$        \\n-\\n$        \\n0.3921\\n$               \\n$ / lb.\\n-\\n$      \\n0.184\\n$   \\n0.128\\n$  \\n-\\n$        \\n-\\n$        \\n-\\n$        \\n-\\n$        \\n0.3957\\n$               \\n$ / lb.\\n1.346\\n$  \\n0.159\\n$   \\n0.085\\n$  \\n0.242\\n$    \\n0.074\\n$    \\n-\\n$        \\n-\\n$        \\n2.2607\\n$               \\n$ / lb.\\n0.026\\n$  \\n0.194\\n$   \\n0.128\\n$  \\n-\\n$        \\n0.023\\n$    \\n-\\n$        \\n0.001\\n$    \\n0.4665\\n$               \\n$ / lb.\\n-\\n$      \\n0.194\\n$   \\n0.129\\n$  \\n-\\n$        \\n0.021\\n$    \\n-\\n$        \\n-\\n$        \\n0.4340\\n$               \\n$ / lb.\\n-\\n$      \\n-\\n$       \\n-\\n$      \\n-\\n$        \\n-\\n$        \\n-\\n$        \\n0.539\\n$    \\n0.6617\\n$               \\n$ / lb.\\n1.848\\n$  \\n0.216\\n$   \\n0.055\\n$  \\n0.544\\n$    \\n-\\n$        \\n0.128\\n$    \\n-\\n$        \\n3.2964\\n$               \\n$ / lb.\\n-\\n$      \\n-\\n$       \\n-\\n$      \\n-\\n$        \\n-\\n$        \\n3.666\\n$    \\n-\\n$        \\n4.3199\\n$               \\n$ / lb.\\n3.801\\n$  \\n0.167\\n$   \\n0.015\\n$  \\n-\\n$        \\n-\\n$        \\n-\\n$        \\n-\\n$        \\n4.6910\\n$               \\n$ / lb.\\n3.194\\n$  \\n0.248\\n$   \\n0.019\\n$  \\n-\\n$        \\n-\\n$        \\n0.009\\n$    \\n-\\n$        \\n4.0906\\n$               \\n$ / lb.\\n3.484\\n$  \\n-\\n$       \\n0.004\\n$  \\n-\\n$        \\n-\\n$        \\n1.137\\n$    \\n-\\n$        \\n5.4411\\n$               \\n$ / lb.\\n5.252\\n$  \\n-\\n$       \\n0.000\\n$  \\n-\\n$        \\n-\\n$        \\n0.002\\n$    \\n-\\n$        \\n6.1783\\n$               \\n$ / lb.\\n-\\n$      \\n-\\n$       \\n-\\n$      \\n-\\n$        \\n-\\n$        \\n3.483\\n$    \\n-\\n$        \\n4.1055\\n$               \\n$ / lb.\\n-\\n$      \\n-\\n$       \\n-\\n$      \\n-\\n$        \\n-\\n$        \\n3.593\\n$    \\n-\\n$        \\n4.2341\\n$               \\n$ / lb.\\n3.801\\n$  \\n0.167\\n$   \\n0.015\\n$  \\n-\\n$        \\n-\\n$        \\n-\\n$        \\n-\\n$        \\n4.6910\\n$               \\ntotal raw \\nmaterial \\nsurcharge / lb.\\nbase price/lb.\\ncurrent price/lb\\nsurcharge  applied\\nalloy\\n304l\\n309 ss\\n310 ss\\n316 ss\\n316 ti\\n321 ss\\n409 ss\\n430 ss\\na286\\n439 ss\\n(din 1.4510)\\n441 ss\\n(din 1.4509)\\nal\\ncarp 20\\ncu\\ninc 600\\ninc 601\\nmonel 400\\nni200\\nphos. bronze\\nsncu\\n5.  for the trailing two months' london metal exchange averages used for nickel, chrome, iron and moly, please visit: \\nhttps://www.clevelandcliffs.com/markets\\n6.  for the trailing two months' new york mercantile exchange averages used for copper, please visit: \\nhttp://www.nymex.com/cop_fut_histspot.aspx\\n7.  for the trailing two months' new york mercantile exchange averages used for aluminum please visit: \\nhttp://www.nymex.com/alu_fut_histspot.aspx\\nbraze powder\\nsurcharge policy notes & citations:\\n1.  base price / lb. is an approximation of a commodity's price on metal exchanges in the policy's base year, 2003.  this is the price \\nacs factors into product costing and quotations.\\n2.  current price / lb. is the material's trailing two-month's (i.e. november calculations use september's closing spot averages) on metal \\nexchanges.  the base price / lb. is subtracted from this number to calculate the surcharge component applied to indiv\\n3.  acs factors 6% total scrap on raw material - 3% for wire processing and 3% for finished goods fabrication.\\n4.  total surcharge / lb. equals the base surcharge adjusted for duty and tariff, plus the scrap factor factor, freight factor and the \\nenergy surcharge, and is the value applied to individual part weights.\\n\"),\n",
       " ('USA-DRAWN-WIRE-SURCHARGE-APRIL-25_ 1 MONTH LAG.pdf',\n",
       "  'usd/lb\\nusd/kg\\nusd/lb\\nusd/kg\\nusd/lb\\nusd/kg\\nusd/lb\\nusd/kg\\nusd/lb\\nusd/kg\\nusd/lb\\nusd/kg\\n201\\n0.66\\n1.46\\n0.63\\n1.39\\n0.66\\n1.46\\n0.64\\n1.41\\n0.65\\n1.43\\n0.68\\n1.50\\n204cu\\n0.64\\n1.41\\n0.61\\n1.34\\n0.64\\n1.41\\n0.62\\n1.37\\n0.63\\n1.39\\n0.66\\n1.46\\n302\\n0.97\\n2.14\\n0.91\\n2.01\\n0.90\\n1.98\\n0.87\\n1.92\\n0.89\\n1.96\\n0.92\\n2.03\\n302hq\\n0.97\\n2.14\\n0.91\\n2.01\\n0.90\\n1.98\\n0.87\\n1.92\\n0.89\\n1.96\\n0.92\\n2.03\\n304/304l\\n0.97\\n2.14\\n0.91\\n2.01\\n0.90\\n1.98\\n0.87\\n1.92\\n0.89\\n1.96\\n0.92\\n2.03\\n304l (ni 9%)\\n1.04\\n2.29\\n0.98\\n2.16\\n0.96\\n2.12\\n0.93\\n2.05\\n0.95\\n2.09\\n0.99\\n2.18\\n305\\n1.27\\n2.80\\n1.18\\n2.60\\n1.16\\n2.56\\n1.13\\n2.49\\n1.14\\n2.51\\n1.19\\n2.62\\n309/309s\\n1.31\\n2.89\\n1.26\\n2.78\\n1.24\\n2.73\\n1.21\\n2.67\\n1.22\\n2.69\\n1.27\\n2.80\\n310/310s\\n1.84\\n4.06\\n1.75\\n3.86\\n1.72\\n3.79\\n1.67\\n3.68\\n1.68\\n3.70\\n1.75\\n3.86\\n314\\n1.82\\n4.01\\n1.73\\n3.81\\n1.70\\n3.75\\n1.65\\n3.64\\n1.66\\n3.66\\n1.73\\n3.81\\n316/316l\\n1.62\\n3.57\\n1.55\\n3.42\\n1.52\\n3.35\\n1.48\\n3.26\\n1.48\\n3.26\\n1.52\\n3.35\\n316ti\\n1.58\\n3.48\\n1.51\\n3.33\\n1.48\\n3.26\\n1.44\\n3.17\\n1.44\\n3.17\\n1.48\\n3.26\\n321\\n1.03\\n2.27\\n0.97\\n2.14\\n0.95\\n2.09\\n0.92\\n2.03\\n0.94\\n2.07\\n0.98\\n2.16\\n409\\n0.30\\n0.66\\n0.30\\n0.66\\n0.32\\n0.71\\n0.31\\n0.68\\n0.33\\n0.73\\n0.35\\n0.77\\n409ni\\n0.37\\n0.82\\n0.37\\n0.82\\n0.40\\n0.88\\n0.40\\n0.88\\n0.41\\n0.90\\n0.43\\n0.95\\n410\\n0.31\\n0.68\\n0.34\\n0.75\\n0.34\\n0.75\\n0.33\\n0.73\\n0.35\\n0.77\\n0.36\\n0.79\\n420\\n0.31\\n0.68\\n0.31\\n0.68\\n0.31\\n0.68\\n0.30\\n0.66\\n0.32\\n0.71\\n0.33\\n0.73\\n430\\n0.37\\n0.82\\n0.37\\n0.82\\n0.36\\n0.79\\n0.35\\n0.77\\n0.37\\n0.82\\n0.38\\n0.84\\n431\\n0.41\\n0.90\\n0.41\\n0.90\\n0.41\\n0.90\\n0.39\\n0.86\\n0.41\\n0.90\\n0.42\\n0.93\\n434\\n0.54\\n1.19\\n0.54\\n1.19\\n0.53\\n1.17\\n0.51\\n1.12\\n0.53\\n1.17\\n0.53\\n1.17\\nstainless steel surcharges for drawn wire\\nmar-25\\napr-25\\ngrades\\nnov-24\\ndec-24\\njan-25\\nfeb-25\\n')]"
      ]
     },
     "execution_count": 3,
     "metadata": {},
     "output_type": "execute_result"
    }
   ],
   "source": [
    "import fitz  # PyMuPDF\n",
    "import os\n",
    "\n",
    "pdf_folder = \"5. May PDFs\"\n",
    "pdf_texts = {}\n",
    "\n",
    "for filename in os.listdir(pdf_folder):\n",
    "    if filename.lower().endswith(\".pdf\"):\n",
    "        filepath = os.path.join(pdf_folder, filename)\n",
    "        with fitz.open(filepath) as doc:\n",
    "            text = \"\\n\".join(page.get_text() for page in doc)\n",
    "            pdf_texts[filename] = text.lower()  # Store text in lowercase for easier matching\n",
    "\n",
    "# Preview first few PDF names and text lengths\n",
    "list(pdf_texts.items())[:3]\n"
   ]
  },
  {
   "cell_type": "code",
   "execution_count": 11,
   "id": "1b152900-912d-4a19-a185-c16b036acb10",
   "metadata": {},
   "outputs": [],
   "source": [
    "import pandas as pd\n",
    "\n",
    "excel_path = \"5. May 2025 Surcharges COPY.xlsx\"\n",
    "df = pd.read_excel(excel_path, sheet_name=\"May 2025\")"
   ]
  },
  {
   "cell_type": "code",
   "execution_count": 12,
   "id": "80d281b5-c3be-41eb-b894-804672d91749",
   "metadata": {},
   "outputs": [
    {
     "name": "stdout",
     "output_type": "stream",
     "text": [
      "['Cond Type', 'Description of Calucation', 'UoM', 'Rates', 'Rates to be posted', 'Date Range', 'Unnamed: 6', 'Unnamed: 7', 'Unnamed: 8']\n"
     ]
    }
   ],
   "source": [
    "print(df.columns.tolist())"
   ]
  },
  {
   "cell_type": "code",
   "execution_count": 13,
   "id": "553d8d86-78ec-487e-99c1-c372847d5283",
   "metadata": {},
   "outputs": [
    {
     "data": {
      "text/html": [
       "<div>\n",
       "<style scoped>\n",
       "    .dataframe tbody tr th:only-of-type {\n",
       "        vertical-align: middle;\n",
       "    }\n",
       "\n",
       "    .dataframe tbody tr th {\n",
       "        vertical-align: top;\n",
       "    }\n",
       "\n",
       "    .dataframe thead th {\n",
       "        text-align: right;\n",
       "    }\n",
       "</style>\n",
       "<table border=\"1\" class=\"dataframe\">\n",
       "  <thead>\n",
       "    <tr style=\"text-align: right;\">\n",
       "      <th></th>\n",
       "      <th>Cond Type</th>\n",
       "      <th>Description of Calucation</th>\n",
       "      <th>UoM</th>\n",
       "      <th>Rates</th>\n",
       "      <th>Rates to be posted</th>\n",
       "      <th>Date Range</th>\n",
       "      <th>Unnamed: 6</th>\n",
       "      <th>Unnamed: 7</th>\n",
       "      <th>Unnamed: 8</th>\n",
       "      <th>Matched PDF Content</th>\n",
       "    </tr>\n",
       "  </thead>\n",
       "  <tbody>\n",
       "    <tr>\n",
       "      <th>0</th>\n",
       "      <td>YSW2</td>\n",
       "      <td>A286 Aerospace HTA - GW x MSR Quarterly</td>\n",
       "      <td>LBS</td>\n",
       "      <td>3.5500</td>\n",
       "      <td>3550.0</td>\n",
       "      <td>4/01/2025 - 7/31/2025</td>\n",
       "      <td>Sent by MacLean Fogg</td>\n",
       "      <td>NaN</td>\n",
       "      <td>NaN</td>\n",
       "      <td>acs industries,inc.\\nraw material surcharge po...</td>\n",
       "    </tr>\n",
       "    <tr>\n",
       "      <th>1</th>\n",
       "      <td>YMD2</td>\n",
       "      <td>ACS 304L - GW x MSR including 6% scrap</td>\n",
       "      <td>LBS</td>\n",
       "      <td>1.0158</td>\n",
       "      <td>1015.8</td>\n",
       "      <td>4/01/2025 - 4/31/2025</td>\n",
       "      <td>NaN</td>\n",
       "      <td>NaN</td>\n",
       "      <td>NaN</td>\n",
       "      <td>monthly alloy surcharges for precision strip\\n...</td>\n",
       "    </tr>\n",
       "    <tr>\n",
       "      <th>2</th>\n",
       "      <td>YMC2</td>\n",
       "      <td>ACS 309SS - GW x MSR including 6% scrap</td>\n",
       "      <td>LBS</td>\n",
       "      <td>1.2669</td>\n",
       "      <td>1266.9</td>\n",
       "      <td>4/01/2025 - 4/31/2025</td>\n",
       "      <td>NaN</td>\n",
       "      <td>NaN</td>\n",
       "      <td>NaN</td>\n",
       "      <td>acs industries,inc.\\nraw material surcharge po...</td>\n",
       "    </tr>\n",
       "    <tr>\n",
       "      <th>3</th>\n",
       "      <td>YMG2</td>\n",
       "      <td>ACS 310SS - GW X MSR</td>\n",
       "      <td>LBS</td>\n",
       "      <td>1.7068</td>\n",
       "      <td>1706.8</td>\n",
       "      <td>4/01/2025 - 4/31/2025</td>\n",
       "      <td>NaN</td>\n",
       "      <td>NaN</td>\n",
       "      <td>NaN</td>\n",
       "      <td>No matching PDF found</td>\n",
       "    </tr>\n",
       "    <tr>\n",
       "      <th>4</th>\n",
       "      <td>YME2</td>\n",
       "      <td>ACS 316Ti - GW X MSR including 6% scrap</td>\n",
       "      <td>LBS</td>\n",
       "      <td>1.6501</td>\n",
       "      <td>1650.1</td>\n",
       "      <td>4/01/2025 - 4/31/2025</td>\n",
       "      <td>Using 316 Ti</td>\n",
       "      <td>NaN</td>\n",
       "      <td>NaN</td>\n",
       "      <td>monthly alloy surcharges for precision strip\\n...</td>\n",
       "    </tr>\n",
       "  </tbody>\n",
       "</table>\n",
       "</div>"
      ],
      "text/plain": [
       "  Cond Type                Description of Calucation  UoM   Rates  \\\n",
       "0      YSW2  A286 Aerospace HTA - GW x MSR Quarterly  LBS  3.5500   \n",
       "1      YMD2   ACS 304L - GW x MSR including 6% scrap  LBS  1.0158   \n",
       "2      YMC2  ACS 309SS - GW x MSR including 6% scrap  LBS  1.2669   \n",
       "3      YMG2                     ACS 310SS - GW X MSR  LBS  1.7068   \n",
       "4      YME2  ACS 316Ti - GW X MSR including 6% scrap  LBS  1.6501   \n",
       "\n",
       "   Rates to be posted             Date Range            Unnamed: 6 Unnamed: 7  \\\n",
       "0              3550.0  4/01/2025 - 7/31/2025  Sent by MacLean Fogg        NaN   \n",
       "1              1015.8  4/01/2025 - 4/31/2025                   NaN        NaN   \n",
       "2              1266.9  4/01/2025 - 4/31/2025                   NaN        NaN   \n",
       "3              1706.8  4/01/2025 - 4/31/2025                   NaN        NaN   \n",
       "4              1650.1  4/01/2025 - 4/31/2025          Using 316 Ti        NaN   \n",
       "\n",
       "  Unnamed: 8                                Matched PDF Content  \n",
       "0        NaN  acs industries,inc.\\nraw material surcharge po...  \n",
       "1        NaN  monthly alloy surcharges for precision strip\\n...  \n",
       "2        NaN  acs industries,inc.\\nraw material surcharge po...  \n",
       "3        NaN                              No matching PDF found  \n",
       "4        NaN  monthly alloy surcharges for precision strip\\n...  "
      ]
     },
     "execution_count": 13,
     "metadata": {},
     "output_type": "execute_result"
    }
   ],
   "source": [
    "desc_col = \"Description of Calucation\"  # Check exact spelling in Excel\n",
    "df[\"Matched PDF Content\"] = \"\"\n",
    "\n",
    "for idx, row in df.iterrows():\n",
    "    description = str(row[desc_col]).lower()\n",
    "    \n",
    "    # Extract likely keywords (e.g., \"304L\", \"309SS\")\n",
    "    keywords = [word for word in description.split() if any(char.isdigit() for char in word)]\n",
    "    \n",
    "    matched = False\n",
    "    for pdf_name, text in pdf_texts.items():\n",
    "        if any(kw in text for kw in keywords):\n",
    "            df.at[idx, \"Matched PDF Content\"] = text[:3000]  # Limit to 3000 characters\n",
    "            matched = True\n",
    "            break\n",
    "\n",
    "    if not matched:\n",
    "        df.at[idx, \"Matched PDF Content\"] = \"No matching PDF found\"\n",
    "\n",
    "df.head()\n"
   ]
  },
  {
   "cell_type": "code",
   "execution_count": 15,
   "id": "ddf601e2-8d69-48a1-86d6-801fc2a63fb8",
   "metadata": {},
   "outputs": [
    {
     "name": "stdout",
     "output_type": "stream",
     "text": [
      "Saved to: Updated_May_2025_Surcharges.xlsx\n"
     ]
    }
   ],
   "source": [
    "output_excel_path = \"Updated_May_2025_Surcharges.xlsx\"\n",
    "df.to_excel(output_excel_path, index=False)\n",
    "print(f\"Saved to: {output_excel_path}\")\n"
   ]
  },
  {
   "cell_type": "code",
   "execution_count": 16,
   "id": "881ab9f0-df13-45a0-9620-235a00deb9c5",
   "metadata": {},
   "outputs": [
    {
     "name": "stdout",
     "output_type": "stream",
     "text": [
      "Saved to: Updated_May_2025_Surcharges.xlsx\n"
     ]
    }
   ],
   "source": [
    "df.to_excel(output_excel_path, index=False)\n",
    "print(f\"Saved to: {output_excel_path}\")\n"
   ]
  },
  {
   "cell_type": "markdown",
   "id": "88c1be2a-f755-4f49-9005-15334796ae96",
   "metadata": {},
   "source": [
    "# Monthly Surcharge PDF Matching\n",
    "\n",
    "This notebook extracts and matches PDF content against descriptions from a monthly surcharge Excel sheet.\n",
    "\n",
    "## How to Use\n",
    "\n",
    "1. Upload the monthly Excel file (e.g., `June_2025_Surcharges.xlsx`).\n",
    "2. Upload PDFs into a folder (e.g., `June_PDFs`).\n",
    "3. Update variables in the notebook:\n",
    "   - `pdf_folder`(make a folder and put the PDFs in it)\n",
    "   - `excel_path` (make sure the excel is also in jupyter)\n",
    "   - `output_excel_path`(change to June for example for next month)\n",
    "   - `sheet_name` (Tab on the excel e.g., June 2025\n",
    "   - `desc_col` (stays the same)\n",
    "4. Run the notebook.\n",
    "5. Check `Updated_<month>_Surcharges.xlsx` for output.\n",
    "\n",
    "## Dependencies\n",
    "\n",
    "- pandas\n",
    "- PyMuPDF (`pip install pymupdf`)\n"
   ]
  },
  {
   "cell_type": "code",
   "execution_count": null,
   "id": "c0497ffb-f7be-4f1a-acb2-0bb81adffde0",
   "metadata": {},
   "outputs": [],
   "source": []
  }
 ],
 "metadata": {
  "kernelspec": {
   "display_name": "Python 3 (ipykernel)",
   "language": "python",
   "name": "python3"
  },
  "language_info": {
   "codemirror_mode": {
    "name": "ipython",
    "version": 3
   },
   "file_extension": ".py",
   "mimetype": "text/x-python",
   "name": "python",
   "nbconvert_exporter": "python",
   "pygments_lexer": "ipython3",
   "version": "3.11.6"
  }
 },
 "nbformat": 4,
 "nbformat_minor": 5
}
